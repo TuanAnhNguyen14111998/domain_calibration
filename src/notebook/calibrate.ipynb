{
 "cells": [
  {
   "cell_type": "code",
   "execution_count": 2,
   "id": "5b826687-206c-4630-92a3-4225127628db",
   "metadata": {},
   "outputs": [],
   "source": [
    "# !pip install netcal"
   ]
  },
  {
   "cell_type": "code",
   "execution_count": null,
   "id": "2e29827f-488f-4962-ad4b-aa272f5d6028",
   "metadata": {},
   "outputs": [],
   "source": []
  }
 ],
 "metadata": {
  "kernelspec": {
   "display_name": "Python 3 (ipykernel)",
   "language": "python",
   "name": "python3"
  },
  "language_info": {
   "codemirror_mode": {
    "name": "ipython",
    "version": 3
   },
   "file_extension": ".py",
   "mimetype": "text/x-python",
   "name": "python",
   "nbconvert_exporter": "python",
   "pygments_lexer": "ipython3",
   "version": "3.8.13"
  }
 },
 "nbformat": 4,
 "nbformat_minor": 5
}
