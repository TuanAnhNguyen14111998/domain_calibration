{
 "cells": [
  {
   "cell_type": "markdown",
   "id": "a6f7452f-8c86-4eed-b0db-0b0afa2f1ba1",
   "metadata": {},
   "source": [
    "# Prepare dataset"
   ]
  },
  {
   "cell_type": "code",
   "execution_count": 1,
   "id": "86a0a5a4-a6a4-40fe-a4c4-f5a8c49b860d",
   "metadata": {},
   "outputs": [],
   "source": [
    "import glob\n",
    "from tqdm import tqdm\n",
    "import pandas as pd\n",
    "\n",
    "def distribution_class(df):\n",
    "    dictionary = {\n",
    "        \"class_names\": [],\n",
    "        \"number_images\": []\n",
    "    }\n",
    "    \n",
    "    for class_name in set(df.class_name):\n",
    "        dictionary['class_names'].append(class_name)\n",
    "        dictionary['number_images'].append(df[df.class_name == class_name].shape[0])\n",
    "    \n",
    "    return pd.DataFrame(dictionary)\n"
   ]
  },
  {
   "cell_type": "code",
   "execution_count": 3,
   "id": "df5e9051-d8e2-428e-b407-5e935764c1ff",
   "metadata": {},
   "outputs": [],
   "source": [
    "image_paths = glob.glob(\"/Users/tuananh/tuananh/domain_calibration/datasets/clipart/*/*.jpg\")\n",
    "\n",
    "dictionary = {\n",
    "    \"image_path\": [],\n",
    "    \"class_name\": [],\n",
    "}\n",
    "\n",
    "for image_path in image_paths:\n",
    "    dictionary[\"image_path\"].append(image_path)\n",
    "    dictionary[\"class_name\"].append(image_path.split(\"/\")[-2])\n",
    "\n",
    "df = pd.DataFrame(dictionary)\n",
    "\n",
    "dict_labels = {k:index for index, k in enumerate(set(df.class_name))}\n",
    "\n",
    "distribution_df = distribution_class(df)"
   ]
  },
  {
   "cell_type": "code",
   "execution_count": 5,
   "id": "dc6f4a64-47a6-4910-a06e-494bf6a40417",
   "metadata": {},
   "outputs": [],
   "source": [
    "df[\"phase\"] = \"val\"\n",
    "for index, row in distribution_df.iterrows():\n",
    "    number_train = int(float(row[\"number_images\"]) * 0.8)\n",
    "    class_name = row[\"class_names\"]\n",
    "\n",
    "    index = df[df.class_name == class_name].sample(n=number_train, random_state=42).index\n",
    "    df.loc[index, ['phase']] = 'train'"
   ]
  },
  {
   "cell_type": "code",
   "execution_count": 6,
   "id": "cd6118ea-36dd-4dc5-9b7c-fea237784144",
   "metadata": {},
   "outputs": [],
   "source": [
    "df.to_csv(\"../../datasets/dataset_information.csv\", index=False)"
   ]
  },
  {
   "cell_type": "code",
   "execution_count": null,
   "id": "ceb30f99-643e-4f98-801f-6b4e81eb783c",
   "metadata": {},
   "outputs": [],
   "source": []
  }
 ],
 "metadata": {
  "kernelspec": {
   "display_name": "Python 3 (ipykernel)",
   "language": "python",
   "name": "python3"
  },
  "language_info": {
   "codemirror_mode": {
    "name": "ipython",
    "version": 3
   },
   "file_extension": ".py",
   "mimetype": "text/x-python",
   "name": "python",
   "nbconvert_exporter": "python",
   "pygments_lexer": "ipython3",
   "version": "3.8.13"
  }
 },
 "nbformat": 4,
 "nbformat_minor": 5
}
